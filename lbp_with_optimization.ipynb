{
  "nbformat": 4,
  "nbformat_minor": 0,
  "metadata": {
    "colab": {
      "provenance": [],
      "include_colab_link": true
    },
    "kernelspec": {
      "name": "python3",
      "display_name": "Python 3"
    },
    "language_info": {
      "name": "python"
    }
  },
  "cells": [
    {
      "cell_type": "markdown",
      "metadata": {
        "id": "view-in-github",
        "colab_type": "text"
      },
      "source": [
        "<a href=\"https://colab.research.google.com/github/iampragyagupta/Deep-Learning-for-Computer-Vision/blob/main/lbp_with_optimization.ipynb\" target=\"_parent\"><img src=\"https://colab.research.google.com/assets/colab-badge.svg\" alt=\"Open In Colab\"/></a>"
      ]
    },
    {
      "cell_type": "code",
      "execution_count": null,
      "metadata": {
        "id": "3xGbUJZNPnnC"
      },
      "outputs": [],
      "source": [
        "import numpy as np\n",
        "import matplotlib.pyplot as plt\n",
        "from tensorflow.keras.datasets import mnist\n",
        "from sklearn.neighbors import NearestNeighbors\n",
        "\n",
        "(train_images, train_labels), (test_images, test_labels) = mnist.load_data()"
      ]
    },
    {
      "cell_type": "code",
      "source": [
        "images = []\n",
        "labels = []\n",
        "\n",
        "for i in train_images:\n",
        "  images.append(i)\n",
        "\n",
        "for i in train_labels:\n",
        "  labels.append(i)"
      ],
      "metadata": {
        "id": "Rl8bUEPbQQHc"
      },
      "execution_count": null,
      "outputs": []
    },
    {
      "cell_type": "code",
      "source": [
        "#lbp function\n",
        "\n",
        "def lbp_r1(img_vector):\n",
        "  dim_y,dim_x= img_vector.shape\n",
        "  image = np.zeros((dim_y+2, dim_x+2), dtype=np.uint32)  #padded 0s\n",
        "  for i in range(1, dim_y + 1):\n",
        "        for j in range(1, dim_x + 1):\n",
        "          image[i,j] = img_vector[i-1,j-1]\n",
        "\n",
        "  lbp_image = np.zeros((dim_y, dim_x), dtype=np.uint32)\n",
        "  for i in range(1, dim_y + 1):\n",
        "\n",
        "        for j in range(1, dim_x + 1):\n",
        "            binary_val = 0\n",
        "            center = image[i, j]\n",
        "            neighbors = [\n",
        "                image[i, j+1], image[i-1, j+1], image[i-1, j], image[i-1, j-1],  #right, right-top, top, left-top\n",
        "                image[i, j-1], #left\n",
        "                image[i+1, j-1], image[i+1, j], image[i+1, j+1],  #left down, down, right down\n",
        "\n",
        "            ]\n",
        "            count=0\n",
        "            for neighbor in neighbors:\n",
        "              if(neighbor>=center):\n",
        "                binary_val= binary_val+ 2**(count)\n",
        "              count=count+1\n",
        "            lbp_image[i-1, j-1] = binary_val\n",
        "\n",
        "  return lbp_image"
      ],
      "metadata": {
        "id": "koQPrVw-QSpV"
      },
      "execution_count": null,
      "outputs": []
    },
    {
      "cell_type": "code",
      "source": [
        "# LBP with radius 2.\n",
        "\n",
        "#lbp function r2\n",
        "def lbp_r2(img_vector):\n",
        "  dim_y,dim_x= img_vector.shape\n",
        "  image = np.zeros((dim_y+4, dim_x+4), dtype=np.uint32)  #padded 0s\n",
        "  for i in range(2, dim_y + 2):\n",
        "        for j in range(2, dim_x + 2):\n",
        "          image[i,j] = img_vector[i-2,j-2]\n",
        "\n",
        "  lbp_image = np.zeros((dim_y, dim_x), dtype=np.uint32)\n",
        "  for i in range(2, dim_y + 2):\n",
        "\n",
        "        for j in range(2, dim_x + 2):\n",
        "            binary_val = 0\n",
        "            center = image[i, j]\n",
        "            neighbors = [\n",
        "                image[i, j+2], image[i-1, j+2], image[i-2, j+2], image[i-2, j+1], image[i-2, j], image[i-2, j-1], image[i-2, j-2], #right, right-top, top, left-top\n",
        "                image[i-1, j-2], image[i, j-2], image[i+1, j-2], image[i+2, j-2], #left\n",
        "                image[i+2, j-1], image[i+2, j], image[i+2, j+1], image[i+2, j+2], image[i+1, j+2], #left down, down, right down\n",
        "\n",
        "            ]\n",
        "            count=0\n",
        "            # print(center)\n",
        "            # print(neighbors)\n",
        "            for neighbor in neighbors:\n",
        "              if(neighbor>=center):\n",
        "                binary_val= binary_val+ 2**count\n",
        "              count=count+1\n",
        "            lbp_image[i-2, j-2] = binary_val\n",
        "\n",
        "  return lbp_image"
      ],
      "metadata": {
        "id": "PlE_J5MZQXNR"
      },
      "execution_count": null,
      "outputs": []
    },
    {
      "cell_type": "code",
      "source": [
        "#RUN ONLY IF YOU WANT TO USE LBP APPROACH OR THE MODIFIED (RADIUS = 2) LBP APPROACH.\n",
        "#TO SEE THE PROPOSED GRID APPROACH, GO TO THE NEXT CODE BLOCK\n",
        "\n",
        "#apply lbp on the train set and produce histogram\n",
        "lbp_images = np.array([lbp_r1(img) for img in images]) # can be changed to lbp_r2, based on the need\n",
        "\n",
        "# Function to Compute Histogram of LBP Patterns\n",
        "def compute_lbp_histogram(lbp_image, num_bins=256):\n",
        "    hist, _ = np.histogram(lbp_image.flatten(), bins=num_bins, range=(0, 256))\n",
        "    hist = hist.astype(\"float\") / hist.sum()  # Normalizing the histogram\n",
        "    return hist\n",
        "\n",
        "# Compute histograms for all images\n",
        "histograms = np.array([compute_lbp_histogram(img) for img in lbp_images])"
      ],
      "metadata": {
        "id": "ebebPCZ5VGyA"
      },
      "execution_count": null,
      "outputs": []
    },
    {
      "cell_type": "code",
      "source": [
        "#pre grid LoG - will be used in the grid apprach\n",
        "def log(img_vector):\n",
        "\n",
        "\n",
        "  dim_y,dim_x= img_vector.shape\n",
        "  image = np.zeros((dim_y+2, dim_x+2), dtype=np.uint8)  #padded 0s\n",
        "\n",
        "  for i in range(1, dim_y + 1):\n",
        "        for j in range(1, dim_x + 1):\n",
        "          image[i,j] = img_vector[i-1,j-1]\n",
        "\n",
        "  lbp_image = np.zeros((dim_y, dim_x), dtype=np.int32)\n",
        "\n",
        "  for i in range(1, dim_y + 1):\n",
        "\n",
        "        for j in range(1, dim_x + 1):\n",
        "            binary_val = 0\n",
        "            center = image[i, j]\n",
        "            neighbors = [\n",
        "                image[i, j+1], image[i-1, j+1], image[i-1, j], image[i-1, j-1],  #right, right-top, top, left-top\n",
        "                image[i, j-1], #left\n",
        "                image[i+1, j-1], image[i+1, j], image[i+1, j+1],  #left down, down, right down\n",
        "\n",
        "            ]\n",
        "\n",
        "            sum_of_neighbors = 0\n",
        "            for neighbor in neighbors:\n",
        "              sum_of_neighbors += neighbor\n",
        "\n",
        "            new_val = 8*center - sum_of_neighbors\n",
        "            if(new_val < 0):\n",
        "              new_val = 0\n",
        "            elif(new_val > 255):\n",
        "              new_val = 255\n",
        "\n",
        "            lbp_image[i-1, j-1] = new_val\n",
        "\n",
        "\n",
        "  for i in range(1, dim_y + 1):\n",
        "\n",
        "        for j in range(1, dim_x + 1):\n",
        "            binary_val = 0\n",
        "            center = image[i, j]\n",
        "            neighbors = [\n",
        "                image[i, j+1], image[i-1, j+1], image[i-1, j], image[i-1, j-1],  #right, right-top, top, left-top\n",
        "                image[i, j-1], #left\n",
        "                image[i+1, j-1], image[i+1, j], image[i+1, j+1],  #left down, down, right down\n",
        "\n",
        "            ]\n",
        "\n",
        "            sum_of_neighbors = 0\n",
        "            for neighbor in neighbors:\n",
        "              sum_of_neighbors += neighbor\n",
        "\n",
        "            new_val = (center + sum_of_neighbors) / 9\n",
        "            if(new_val < 0):\n",
        "              new_val = 0\n",
        "            elif(new_val > 255):\n",
        "              new_val = 255\n",
        "\n",
        "            lbp_image[i-1, j-1] = new_val\n",
        "\n",
        "  return lbp_image"
      ],
      "metadata": {
        "id": "fjDoBjufUOVi"
      },
      "execution_count": null,
      "outputs": []
    },
    {
      "cell_type": "code",
      "source": [
        "# our approach to divide section into grids and run the LBP for each, and then concatenate the histograms\n",
        "#grids\n",
        "\n",
        "# Function to Compute LBP for Each Grid\n",
        "def compute_lbp_histogram_grid(img, grid_size=(5, 5), num_bins=256):\n",
        "    \"\"\"\n",
        "    Computes LBP histograms for each grid in the image.\n",
        "    - img: Input image\n",
        "    - grid_size: Tuple indicating the number of grids (rows, cols)\n",
        "    - num_bins: Number of bins in the histogram\n",
        "    Returns:\n",
        "      Concatenated histograms from all grids\n",
        "    \"\"\"\n",
        "    img = log(img)\n",
        "    h, w = img.shape  # Get image dimensions\n",
        "    grid_height, grid_width = divmod(h, grid_size[0])[0], divmod(w, grid_size[1])[0]\n",
        "    histograms = []\n",
        "\n",
        "    for row in range(grid_size[0]):  # Loop through grid rows\n",
        "        row_start, row_end = row * grid_height, (row + 1) * grid_height\n",
        "\n",
        "        for col in range(grid_size[1]):  # Loop through grid columns\n",
        "            col_start, col_end = col * grid_width, (col + 1) * grid_width\n",
        "\n",
        "            # Extract the current grid section from the image\n",
        "            grid_section = img[row_start:row_end, col_start:col_end]\n",
        "\n",
        "            center = np.median(grid_section)\n",
        "            # Compute LBP features for this section\n",
        "            lbp_features = lbp_r1(grid_section)\n",
        "\n",
        "            # Generate histogram and normalize it\n",
        "            histogram, _ = np.histogram(lbp_features.ravel(), bins=num_bins, range=(0, num_bins))\n",
        "            histogram = histogram.astype(np.float32) / np.sum(histogram)  # Normalize\n",
        "\n",
        "            # Store the histogram\n",
        "            histograms.append(histogram)\n",
        "\n",
        "\n",
        "    return np.concatenate(histograms)  # Return concatenated histogram\n",
        "\n",
        "# Compute LBP histograms for all images with grids\n",
        "lbp_histograms_grid = np.array([compute_lbp_histogram_grid(img, grid_size=(5, 5)) for img in images])\n",
        "histograms=lbp_histograms_grid"
      ],
      "metadata": {
        "id": "pQ8Dr0MDRRTB"
      },
      "execution_count": null,
      "outputs": []
    },
    {
      "cell_type": "code",
      "source": [
        "# once any one of the methods have been used and the histograms are made, we run a KNN algo\n",
        "\n",
        "histograms = np.array(histograms)\n",
        "knn = NearestNeighbors(n_neighbors=no_neighbors, metric='euclidean')\n",
        "knn.fit(histograms)"
      ],
      "metadata": {
        "id": "BVqNbz6CSKTm"
      },
      "execution_count": null,
      "outputs": []
    },
    {
      "cell_type": "code",
      "source": [
        "# calculated the closest neighbours for any feature vector\n",
        "\n",
        "from sklearn.metrics import precision_score, recall_score, f1_score\n",
        "def get_closest_images(image_index,train_labels):\n",
        "\n",
        "    predictions = []\n",
        "    true_labels = []\n",
        "\n",
        "    # Retrieve the histogram of the input image\n",
        "    input_hist = histograms[image_index].reshape(1, -1)\n",
        "\n",
        "    # Find the indices of the 6 closest images (including the input image)\n",
        "    distances, indices = knn.kneighbors(input_hist)\n",
        "\n",
        "    # Exclude the input image from the list of neighbors\n",
        "    indices = indices[0][indices[0] != image_index]\n",
        "    indices = indices[:5]\n",
        "    for i in indices:\n",
        "      true_labels.append(train_labels[i])\n",
        "\n",
        "    # UNHIDE TO SEE IMAGES OF CLOSEST NEIGHBOURS\n",
        "    # PLS COMMENT OUT WHEN RUNNING THE FULL LOOP FOR PRECISION, RECALL, ETC.\n",
        "    # Display the input image\n",
        "\n",
        "    # plt.figure(figsize=(10, 6))\n",
        "    # plt.subplot(2, 3, 1)\n",
        "    # plt.imshow(images[image_index], cmap='gray')\n",
        "    # plt.title(f'Input Image {image_index}')\n",
        "    # plt.axis('off')\n",
        "\n",
        "    # # Display the 5 closest images\n",
        "    # for i, idx in enumerate(indices[:]):\n",
        "    #     plt.subplot(2, 3, i + 2)\n",
        "    #     plt.imshow(images[idx], cmap='gray')\n",
        "    #     plt.title(f'Neighbor {i + 1}')\n",
        "    #     plt.axis('off')\n",
        "\n",
        "    # plt.tight_layout()\n",
        "    # plt.show()\n",
        "\n",
        "\n",
        "    return np.array(true_labels)\n"
      ],
      "metadata": {
        "id": "sBapuLBcUvXR"
      },
      "execution_count": null,
      "outputs": []
    },
    {
      "cell_type": "code",
      "source": [
        "no_neighbors= int(input(\"how many nearest neighbors would you like: \")) +1 # specify number of closest images you want to see\n",
        "\n",
        "def create_numpy_list(length, value):\n",
        "    return np.full(length, value)\n",
        "\n",
        "def getScores(query_img):\n",
        "\n",
        "  true_labels = get_closest_images(query_img,train_labels)\n",
        "  pred_labels = create_numpy_list(n,labels[query_img])\n",
        "\n",
        "  precision = precision_score(true_labels, pred_labels, average='macro', zero_division=0)\n",
        "  recall = recall_score(true_labels, pred_labels,average='macro', zero_division=0)\n",
        "  f1 = f1_score(true_labels, pred_labels,average='macro', zero_division=0)\n",
        "\n",
        "  return precision,recall,f1\n"
      ],
      "metadata": {
        "id": "4UZic4sEWgFC"
      },
      "execution_count": null,
      "outputs": []
    },
    {
      "cell_type": "code",
      "source": [
        "pr = []\n",
        "re = []\n",
        "fs = []\n",
        "\n",
        "for i in range(100): # range is the number of samples that the code will check the nearest neighbours for, and record the precision, recall etc.\n",
        "  #print(i,p,r,f)\n",
        "  p,r,f = getScores(i)\n",
        "\n",
        "  pr.append(p)\n",
        "  re.append(r)\n",
        "  fs.append(f)\n",
        "\n",
        "precision = sum(pr)/len(pr)\n",
        "recall = sum(re)/len(re)\n",
        "fscore = sum(fs)/len(fs)\n",
        "\n",
        "print(precision) # average values of precision, recall etc are printed\n",
        "print(recall)\n",
        "print(fscore)"
      ],
      "metadata": {
        "id": "w58SiZt0W54W"
      },
      "execution_count": null,
      "outputs": []
    }
  ]
}